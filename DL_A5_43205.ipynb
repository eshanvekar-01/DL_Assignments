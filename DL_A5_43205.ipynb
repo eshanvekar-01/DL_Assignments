{
 "cells": [
  {
   "cell_type": "markdown",
   "metadata": {
    "id": "i_GcJlVrDgBk"
   },
   "source": [
    "Name: **Esha Anvekar**<br>\n",
    "Roll no: **43205**<br>\n",
    "Title: **Assignment 5: Implement the Continuous Bag of Words (CBOW) Model**<br>"
   ]
  },
  {
   "cell_type": "code",
   "execution_count": 1,
   "metadata": {
    "id": "V51q50EbF-T9"
   },
   "outputs": [],
   "source": [
    "#importing libraries\n",
    "from keras.preprocessing import text\n",
    "from keras.utils import np_utils\n",
    "from keras.preprocessing import sequence\n",
    "from keras.utils import pad_sequences\n",
    "import numpy as np\n",
    "import pandas as pd"
   ]
  },
  {
   "cell_type": "code",
   "execution_count": 2,
   "metadata": {
    "id": "wBUwYdBJElVz"
   },
   "outputs": [],
   "source": [
    "#taking random sentences as data\n",
    "data = \"\"\"Deep learning (also known as deep structured learning) is part of a broader family of machine learning methods based on artificial neural networks with representation learning. Learning can be supervised, semi-supervised or unsupervised. \n",
    "Deep-learning architectures such as deep neural networks, deep belief networks, deep reinforcement learning, recurrent neural networks, convolutional neural networks and Transformers have been applied to fields including computer vision, speech recognition, natural language processing, machine translation, bioinformatics, drug design, medical image analysis, climate science, material inspection and board game programs, where they have produced results comparable to and in some cases surpassing human expert performance.\n",
    "\"\"\"\n",
    "dl_data = data.split()"
   ]
  },
  {
   "cell_type": "code",
   "execution_count": 3,
   "metadata": {
    "colab": {
     "base_uri": "https://localhost:8080/"
    },
    "id": "celNk9LmEvm8",
    "outputId": "4e2143b6-92dc-452f-f468-7c9e6238e287"
   },
   "outputs": [
    {
     "name": "stdout",
     "output_type": "stream",
     "text": [
      "Vocabulary Size: 75\n",
      "Vocabulary Sample: [('learning', 1), ('deep', 2), ('networks', 3), ('neural', 4), ('and', 5), ('as', 6), ('of', 7), ('machine', 8), ('supervised', 9), ('have', 10)]\n"
     ]
    }
   ],
   "source": [
    "#tokenization\n",
    "tokenizer = text.Tokenizer()\n",
    "tokenizer.fit_on_texts(dl_data)\n",
    "word2id = tokenizer.word_index\n",
    "\n",
    "word2id['PAD'] = 0\n",
    "id2word = {v:k for k, v in word2id.items()}\n",
    "wids = [[word2id[w] for w in text.text_to_word_sequence(doc)] for doc in dl_data]\n",
    "\n",
    "vocab_size = len(word2id)\n",
    "embed_size = 100\n",
    "window_size = 2 \n",
    "\n",
    "print('Vocabulary Size:', vocab_size)\n",
    "print('Vocabulary Sample:', list(word2id.items())[:10])"
   ]
  },
  {
   "cell_type": "code",
   "execution_count": 4,
   "metadata": {
    "id": "AAxNYDanInQC"
   },
   "outputs": [],
   "source": [
    "#generating (context word, target/label word) pairs\n",
    "def generate_context_word_pairs(corpus, window_size, vocab_size):\n",
    "    context_length = window_size*2\n",
    "    for words in corpus:\n",
    "        sentence_length = len(words)\n",
    "        for index, word in enumerate(words):\n",
    "            context_words = []\n",
    "            label_word   = []            \n",
    "            start = index - window_size\n",
    "            end = index + window_size + 1\n",
    "            \n",
    "            context_words.append([words[i] \n",
    "                                 for i in range(start, end) \n",
    "                                 if 0 <= i < sentence_length \n",
    "                                 and i != index])\n",
    "            label_word.append(word)\n",
    "\n",
    "            x = pad_sequences(context_words, maxlen=context_length)\n",
    "            y = np_utils.to_categorical(label_word, vocab_size)\n",
    "            yield (x, y)\n",
    "            \n",
    "i = 0\n",
    "for x, y in generate_context_word_pairs(corpus=wids, window_size=window_size, vocab_size=vocab_size):\n",
    "    if 0 not in x[0]:\n",
    "        # print('Context (X):', [id2word[w] for w in x[0]], '-> Target (Y):', id2word[np.argwhere(y[0])[0][0]])\n",
    "    \n",
    "        if i == 10:\n",
    "            break\n",
    "        i += 1"
   ]
  },
  {
   "cell_type": "code",
   "execution_count": 5,
   "metadata": {
    "colab": {
     "base_uri": "https://localhost:8080/"
    },
    "id": "Rb5dNmoZKZBv",
    "outputId": "b859c07e-6989-420d-b169-8aa0b93ff367"
   },
   "outputs": [
    {
     "name": "stdout",
     "output_type": "stream",
     "text": [
      "Model: \"sequential\"\n",
      "_________________________________________________________________\n",
      " Layer (type)                Output Shape              Param #   \n",
      "=================================================================\n",
      " embedding (Embedding)       (None, 4, 100)            7500      \n",
      "                                                                 \n",
      " lambda (Lambda)             (None, 100)               0         \n",
      "                                                                 \n",
      " dense (Dense)               (None, 75)                7575      \n",
      "                                                                 \n",
      "=================================================================\n",
      "Total params: 15,075\n",
      "Trainable params: 15,075\n",
      "Non-trainable params: 0\n",
      "_________________________________________________________________\n",
      "None\n"
     ]
    }
   ],
   "source": [
    "#model building\n",
    "import keras.backend as K\n",
    "from keras.models import Sequential\n",
    "from keras.layers import Dense, Embedding, Lambda\n",
    "\n",
    "cbow = Sequential()\n",
    "cbow.add(Embedding(input_dim=vocab_size, output_dim=embed_size, input_length=window_size*2))\n",
    "cbow.add(Lambda(lambda x: K.mean(x, axis=1), output_shape=(embed_size,)))\n",
    "cbow.add(Dense(vocab_size, activation='softmax'))\n",
    "cbow.compile(loss='categorical_crossentropy', optimizer='rmsprop')\n",
    "\n",
    "print(cbow.summary())\n",
    "\n",
    "# from IPython.display import SVG\n",
    "# from keras.utils.vis_utils import model_to_dot\n",
    "\n",
    "# SVG(model_to_dot(cbow, show_shapes=True, show_layer_names=False, rankdir='TB').create(prog='dot', format='svg'))"
   ]
  },
  {
   "cell_type": "code",
   "execution_count": 6,
   "metadata": {
    "colab": {
     "base_uri": "https://localhost:8080/"
    },
    "id": "xs12C3MDK1q4",
    "outputId": "fe8783b3-0ee1-4286-be40-6713afa14f9c"
   },
   "outputs": [
    {
     "name": "stdout",
     "output_type": "stream",
     "text": [
      "Epoch: 1 \tLoss: 433.97001457214355\n",
      "\n",
      "Epoch: 2 \tLoss: 428.7401394844055\n",
      "\n",
      "Epoch: 3 \tLoss: 425.22357845306396\n",
      "\n",
      "Epoch: 4 \tLoss: 422.0638864040375\n",
      "\n",
      "Epoch: 5 \tLoss: 419.7526009082794\n",
      "\n"
     ]
    }
   ],
   "source": [
    "for epoch in range(1, 6):\n",
    "    loss = 0.\n",
    "    i = 0\n",
    "    for x, y in generate_context_word_pairs(corpus=wids, window_size=window_size, vocab_size=vocab_size):\n",
    "        i += 1\n",
    "        loss += cbow.train_on_batch(x, y)\n",
    "        if i % 100000 == 0:\n",
    "            print('Processed {} (context, word) pairs'.format(i))\n",
    "\n",
    "    print('Epoch:', epoch, '\\tLoss:', loss)\n",
    "    print()"
   ]
  },
  {
   "cell_type": "code",
   "execution_count": 7,
   "metadata": {
    "colab": {
     "base_uri": "https://localhost:8080/",
     "height": 253
    },
    "id": "TZ3_QGKVK6Tj",
    "outputId": "cd9d167a-85a3-4cc9-eccb-faf997526122"
   },
   "outputs": [
    {
     "name": "stdout",
     "output_type": "stream",
     "text": [
      "(74, 100)\n"
     ]
    },
    {
     "data": {
      "text/html": [
       "<div>\n",
       "<style scoped>\n",
       "    .dataframe tbody tr th:only-of-type {\n",
       "        vertical-align: middle;\n",
       "    }\n",
       "\n",
       "    .dataframe tbody tr th {\n",
       "        vertical-align: top;\n",
       "    }\n",
       "\n",
       "    .dataframe thead th {\n",
       "        text-align: right;\n",
       "    }\n",
       "</style>\n",
       "<table border=\"1\" class=\"dataframe\">\n",
       "  <thead>\n",
       "    <tr style=\"text-align: right;\">\n",
       "      <th></th>\n",
       "      <th>0</th>\n",
       "      <th>1</th>\n",
       "      <th>2</th>\n",
       "      <th>3</th>\n",
       "      <th>4</th>\n",
       "      <th>5</th>\n",
       "      <th>6</th>\n",
       "      <th>7</th>\n",
       "      <th>8</th>\n",
       "      <th>9</th>\n",
       "      <th>...</th>\n",
       "      <th>90</th>\n",
       "      <th>91</th>\n",
       "      <th>92</th>\n",
       "      <th>93</th>\n",
       "      <th>94</th>\n",
       "      <th>95</th>\n",
       "      <th>96</th>\n",
       "      <th>97</th>\n",
       "      <th>98</th>\n",
       "      <th>99</th>\n",
       "    </tr>\n",
       "  </thead>\n",
       "  <tbody>\n",
       "    <tr>\n",
       "      <th>deep</th>\n",
       "      <td>-0.045840</td>\n",
       "      <td>-0.054704</td>\n",
       "      <td>0.004116</td>\n",
       "      <td>-0.015739</td>\n",
       "      <td>0.042712</td>\n",
       "      <td>0.015228</td>\n",
       "      <td>0.018705</td>\n",
       "      <td>-0.019874</td>\n",
       "      <td>0.016550</td>\n",
       "      <td>-0.023150</td>\n",
       "      <td>...</td>\n",
       "      <td>0.065665</td>\n",
       "      <td>-0.030085</td>\n",
       "      <td>0.025633</td>\n",
       "      <td>-0.012566</td>\n",
       "      <td>-0.016343</td>\n",
       "      <td>-0.030214</td>\n",
       "      <td>0.028891</td>\n",
       "      <td>0.050010</td>\n",
       "      <td>0.018668</td>\n",
       "      <td>0.009564</td>\n",
       "    </tr>\n",
       "    <tr>\n",
       "      <th>networks</th>\n",
       "      <td>-0.013933</td>\n",
       "      <td>0.024423</td>\n",
       "      <td>-0.031193</td>\n",
       "      <td>0.005517</td>\n",
       "      <td>0.027724</td>\n",
       "      <td>0.054973</td>\n",
       "      <td>0.020640</td>\n",
       "      <td>0.037364</td>\n",
       "      <td>0.028754</td>\n",
       "      <td>0.019205</td>\n",
       "      <td>...</td>\n",
       "      <td>-0.025706</td>\n",
       "      <td>0.023059</td>\n",
       "      <td>-0.048360</td>\n",
       "      <td>0.025516</td>\n",
       "      <td>0.043315</td>\n",
       "      <td>-0.033516</td>\n",
       "      <td>-0.034842</td>\n",
       "      <td>-0.031457</td>\n",
       "      <td>-0.054894</td>\n",
       "      <td>-0.020156</td>\n",
       "    </tr>\n",
       "    <tr>\n",
       "      <th>neural</th>\n",
       "      <td>-0.012212</td>\n",
       "      <td>0.015698</td>\n",
       "      <td>0.013853</td>\n",
       "      <td>0.013015</td>\n",
       "      <td>-0.016909</td>\n",
       "      <td>-0.030589</td>\n",
       "      <td>-0.005361</td>\n",
       "      <td>0.030464</td>\n",
       "      <td>-0.013677</td>\n",
       "      <td>0.016359</td>\n",
       "      <td>...</td>\n",
       "      <td>0.022666</td>\n",
       "      <td>0.027974</td>\n",
       "      <td>0.040349</td>\n",
       "      <td>0.005384</td>\n",
       "      <td>0.001973</td>\n",
       "      <td>0.005075</td>\n",
       "      <td>0.003522</td>\n",
       "      <td>0.002220</td>\n",
       "      <td>0.045527</td>\n",
       "      <td>0.046903</td>\n",
       "    </tr>\n",
       "    <tr>\n",
       "      <th>and</th>\n",
       "      <td>0.026635</td>\n",
       "      <td>-0.018218</td>\n",
       "      <td>-0.041354</td>\n",
       "      <td>-0.017151</td>\n",
       "      <td>-0.049080</td>\n",
       "      <td>0.012712</td>\n",
       "      <td>0.010315</td>\n",
       "      <td>-0.037020</td>\n",
       "      <td>0.029494</td>\n",
       "      <td>-0.028782</td>\n",
       "      <td>...</td>\n",
       "      <td>-0.016605</td>\n",
       "      <td>-0.008851</td>\n",
       "      <td>0.003357</td>\n",
       "      <td>0.010140</td>\n",
       "      <td>0.049815</td>\n",
       "      <td>0.011167</td>\n",
       "      <td>0.029533</td>\n",
       "      <td>0.010013</td>\n",
       "      <td>0.009687</td>\n",
       "      <td>-0.003293</td>\n",
       "    </tr>\n",
       "    <tr>\n",
       "      <th>as</th>\n",
       "      <td>-0.046707</td>\n",
       "      <td>-0.019120</td>\n",
       "      <td>0.045691</td>\n",
       "      <td>-0.030222</td>\n",
       "      <td>0.016949</td>\n",
       "      <td>-0.004875</td>\n",
       "      <td>-0.036831</td>\n",
       "      <td>-0.011961</td>\n",
       "      <td>-0.028795</td>\n",
       "      <td>0.025898</td>\n",
       "      <td>...</td>\n",
       "      <td>-0.016871</td>\n",
       "      <td>-0.046633</td>\n",
       "      <td>-0.033955</td>\n",
       "      <td>0.000093</td>\n",
       "      <td>0.022704</td>\n",
       "      <td>-0.036056</td>\n",
       "      <td>-0.011700</td>\n",
       "      <td>-0.040293</td>\n",
       "      <td>-0.034110</td>\n",
       "      <td>0.048121</td>\n",
       "    </tr>\n",
       "  </tbody>\n",
       "</table>\n",
       "<p>5 rows × 100 columns</p>\n",
       "</div>"
      ],
      "text/plain": [
       "                0         1         2         3         4         5   \\\n",
       "deep     -0.045840 -0.054704  0.004116 -0.015739  0.042712  0.015228   \n",
       "networks -0.013933  0.024423 -0.031193  0.005517  0.027724  0.054973   \n",
       "neural   -0.012212  0.015698  0.013853  0.013015 -0.016909 -0.030589   \n",
       "and       0.026635 -0.018218 -0.041354 -0.017151 -0.049080  0.012712   \n",
       "as       -0.046707 -0.019120  0.045691 -0.030222  0.016949 -0.004875   \n",
       "\n",
       "                6         7         8         9   ...        90        91  \\\n",
       "deep      0.018705 -0.019874  0.016550 -0.023150  ...  0.065665 -0.030085   \n",
       "networks  0.020640  0.037364  0.028754  0.019205  ... -0.025706  0.023059   \n",
       "neural   -0.005361  0.030464 -0.013677  0.016359  ...  0.022666  0.027974   \n",
       "and       0.010315 -0.037020  0.029494 -0.028782  ... -0.016605 -0.008851   \n",
       "as       -0.036831 -0.011961 -0.028795  0.025898  ... -0.016871 -0.046633   \n",
       "\n",
       "                92        93        94        95        96        97  \\\n",
       "deep      0.025633 -0.012566 -0.016343 -0.030214  0.028891  0.050010   \n",
       "networks -0.048360  0.025516  0.043315 -0.033516 -0.034842 -0.031457   \n",
       "neural    0.040349  0.005384  0.001973  0.005075  0.003522  0.002220   \n",
       "and       0.003357  0.010140  0.049815  0.011167  0.029533  0.010013   \n",
       "as       -0.033955  0.000093  0.022704 -0.036056 -0.011700 -0.040293   \n",
       "\n",
       "                98        99  \n",
       "deep      0.018668  0.009564  \n",
       "networks -0.054894 -0.020156  \n",
       "neural    0.045527  0.046903  \n",
       "and       0.009687 -0.003293  \n",
       "as       -0.034110  0.048121  \n",
       "\n",
       "[5 rows x 100 columns]"
      ]
     },
     "execution_count": 7,
     "metadata": {},
     "output_type": "execute_result"
    }
   ],
   "source": [
    "weights = cbow.get_weights()[0]\n",
    "weights = weights[1:]\n",
    "print(weights.shape)\n",
    "\n",
    "pd.DataFrame(weights, index=list(id2word.values())[1:]).head()"
   ]
  },
  {
   "cell_type": "code",
   "execution_count": 8,
   "metadata": {
    "colab": {
     "base_uri": "https://localhost:8080/"
    },
    "id": "UFs2IAn_LAYS",
    "outputId": "87ae1249-6a80-484f-b4a2-4d5f20734db7"
   },
   "outputs": [
    {
     "name": "stdout",
     "output_type": "stream",
     "text": [
      "(74, 74)\n"
     ]
    },
    {
     "data": {
      "text/plain": [
       "{'deep': ['family', 'image', 'some', 'also', 'representation']}"
      ]
     },
     "execution_count": 8,
     "metadata": {},
     "output_type": "execute_result"
    }
   ],
   "source": [
    "from sklearn.metrics.pairwise import euclidean_distances\n",
    "\n",
    "distance_matrix = euclidean_distances(weights)\n",
    "print(distance_matrix.shape)\n",
    "\n",
    "similar_words = {search_term: [id2word[idx] for idx in distance_matrix[word2id[search_term]-1].argsort()[1:6]+1] \n",
    "                   for search_term in ['deep']}\n",
    "\n",
    "similar_words"
   ]
  },
  {
   "cell_type": "code",
   "execution_count": null,
   "metadata": {},
   "outputs": [],
   "source": []
  }
 ],
 "metadata": {
  "colab": {
   "collapsed_sections": [],
   "provenance": []
  },
  "kernelspec": {
   "display_name": "Python 3 (ipykernel)",
   "language": "python",
   "name": "python3"
  },
  "language_info": {
   "codemirror_mode": {
    "name": "ipython",
    "version": 3
   },
   "file_extension": ".py",
   "mimetype": "text/x-python",
   "name": "python",
   "nbconvert_exporter": "python",
   "pygments_lexer": "ipython3",
   "version": "3.9.13"
  }
 },
 "nbformat": 4,
 "nbformat_minor": 1
}
